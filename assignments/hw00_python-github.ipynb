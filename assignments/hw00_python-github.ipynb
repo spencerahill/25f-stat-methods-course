{
 "cells": [
  {
   "cell_type": "markdown",
   "id": "f051dfa0-723f-49b3-b1ce-3005d7f1114c",
   "metadata": {
    "editable": true,
    "slideshow": {
     "slide_type": ""
    },
    "tags": []
   },
   "source": [
    "# HW00: Getting python and your `Github` account up and running"
   ]
  },
  {
   "cell_type": "markdown",
   "id": "4cc872f6-7f88-45aa-8d30-d47a1147eea3",
   "metadata": {
    "editable": true,
    "slideshow": {
     "slide_type": ""
    },
    "tags": []
   },
   "source": [
    "## Introduction"
   ]
  },
  {
   "cell_type": "markdown",
   "id": "320e4654-1a93-43d1-980a-0ff04e2dbd57",
   "metadata": {
    "editable": true,
    "slideshow": {
     "slide_type": ""
    },
    "tags": []
   },
   "source": [
    "There are two key pieces of \"tech\" that we will use throughout this class:\n",
    "\n",
    "1. The [python](https://www.python.org/) programming language\n",
    "2. The [Github](https://github.com/) website for sharing computer code\n",
    "\n",
    "Getting started with each of these requires a little initial setup.  So, in this \"assignment 0\", you will complete that setup.  Then you'll be ready for all of the computational work to come."
   ]
  },
  {
   "cell_type": "markdown",
   "id": "381fe64b-a5a6-4f75-b9c8-7647ad9bb276",
   "metadata": {
    "editable": true,
    "slideshow": {
     "slide_type": ""
    },
    "tags": []
   },
   "source": [
    "## Python installations\n",
    "\n",
    "Python is the programming language we will use in this class.\n",
    "\n",
    "On whatever computer you're using, there is some version of python already installed and that you could use, if you really wanted to.\n",
    "\n",
    "However, using the built-in installation of python on any computer creates all sorts of headaches.  Later on we'll go into more detail on why.\n",
    "\n",
    "For now, it suffices to say that we'll work with some other \"installation\" of python.  In fact, we'll use two:\n",
    "\n",
    "1. [Google Colab](https://colab.research.google.com/)\n",
    "2. [Anaconda](https://anaconda.org/)\n",
    "\n",
    "### Google Colab\n",
    "Google Colab runs your python code *in the cloud*.  It is free; all you need is to login to Google Apps (which you have access to via your CUNY account) and then go to the URL linked above.\n",
    "\n",
    ":::{admonition} What does \"in the cloud\" mean?  \n",
    ":class: note\n",
    "\n",
    "Whenever you execute a python command, it runs on some computer.  In the case of python installed on your computer, naturally it runs on your computer.  \n",
    "\n",
    "But in the case of Colab, it's not using the python on your compute.  Instead, it is using python installed on one of Google's servers somewhere in the world that is connected to the internet.\n",
    "\n",
    "So, via their web interface, you input the code you want to run, then Google sends it to that server, which runs the code, and then sends back to you the output.  (FYI, oversimplifying a bit, but this is basically how everything works that's called \"in the cloud.\")\n",
    ":::\n",
    "\n",
    "### Anaconda\n",
    "These days, Google Colab is the single easiest and fastest way to get started working with and actually running python code.  \n",
    "\n",
    "However, any Earth data scientist worth their salt eventually needs to be able to run python on their own computer.  (And, eventually, on a remote high-performance cluster, or *HPC*, not just their local laptop/desktop.)\n",
    "\n",
    "As noted above, the builtin python won't cut it for this.  Instead, we use what's called the [Anaconda](https://anaconda.org/) distribution of python.\n",
    "\n",
    "\n",
    "## Specific tasks for the python installations\n",
    "### Get Google Colab running successfully\n",
    "This *should* be straightforward: \n",
    "\n",
    "1. Go to the Google Colab page linked above (dealing with the Google account login as needed)\n",
    "2. A button or link should pop up somewhere on that page that says something like \"New notebook\".  Click that.\n",
    "3. This will take you to a blank Colab document.  At the top, below the navigation bars, should be an empty box with a little \"play\" symbol to its left.  That is called a **cell**. Click inside that cell.\n",
    "4. Type in anything you want, and then click that \"play\" symbol.  Doing so triggers Colab to try to *execute* or *run* the code that you've pasted in that cell.  *If* what you entered is valid python code, the *output* of that code will show up immediately below.  For example, if you copy-paste in `print(\"hello world\")`, it will print the text `hello world`.\n",
    "5. If what you gave it is *not* valid python code---meaning it violates python's *syntax rules* or has some other logic error, which are things we'll explain later---then instead you'll get an error message.  For example, try instead pasting in `print(\"hello world)`.  (Do you notice the subtle difference from the first case?) That should result in a `SyntaxError` message.\n",
    "6. Keep playing around until you've gotten both a cell to run without error and a cell to result in an error message.\n",
    "\n",
    "That's it!  You don't actually need to turn anything in to prove you've done this.  But if you get stuck on any step and just can't figure it out, don't be shy to ask the prof for help. \n",
    "\n",
    "\n",
    "### Get `Anaconda` or `miniconda` installed on your computer.\n",
    "If you are new to Python and *especially* if you're on windows, use the full `Anaconda` distribution.  Anaconda installs python, lots 3rd-party packages you'll use, and other tools like a Graphical User Interface (GUI)-based app with lots of helpful tools for data science.\n",
    "\n",
    ":::{admonition} `Anaconda` vs. `miniconda`\n",
    ":class: note\n",
    "If you already know what you're doing decently enough and are comfortable working from the command line rather than a GUI app, you're free to use `miniconda` instead.  In that case, we'll assume you don't need much additional instructions, and so all of the instructions below are for the Anaconda version.\n",
    ":::\n",
    "\n",
    "Anaconda can be downloaded from the [Anaconda downloads page](https://www.anaconda.com/download).\n",
    "\n",
    "Your specific instructions are:\n",
    "\n",
    "1. Follow the anaconda download and installation instructions.  Make sure the version you download is the right one for your operating system: Windows, Mac, or Linux.\n",
    "2. Open the Anaconda Navigator application that has been installed.\n",
    "3. Find the button, tab, etc. to open a new \"Jupyter Notebook.\"  Click it.\n",
    "4. A screen should pop up that looks a lot like the Google Colab we opened earlier.  (In fact, under the hood [Google Colab *is* simply a web-hosted Jupyter notebook](https://colab.google\\/)).\n",
    "5. Do the same steps as above for Colab: play around and get a cell to run successfully at least once and to give an error message at least once.\n",
    "   \n",
    "\n",
    "## Github\n",
    "Basically, Github is a website where you can share computer code with other people.  In addition to just *hosting* code that you upload to it, Github also provides lots of tools for *collaborating* with other people on some shared code.\n",
    "\n",
    "(Other, similar online repositories exist such as [gitlab](https://about.gitlab.com/) and [bitbucket](https://bitbucket.org/product/), but we won't use these.  Github is by far the most popular and thus the one that's most valuable for you to learn.)\n",
    "\n",
    "The first step in using Github is creating an account.  This is 100% free.  Github offers premium features that you can pay for, but we will not be using those.  (Your prof's account is the free version, in case that helps.)\n",
    "\n",
    "### If you don't have a Github account: sign up for one *using your CCNY/CUNY email*\n",
    "\n",
    "Go to [this link](https://github.com/signup), fill in whatever they need from you, and click OK.\n",
    "\n",
    "### Fill out [this Google form](https://forms.gle/rUwE7zd2KMeyVZdS9), in which you'll provide your Github account handle.\n",
    "\n",
    "I'll use this to grant you permission to write to the class Github repo, which you'll need for the next step.\n",
    "\n",
    "### Go to [this Issue](https://github.com/spencerahill/25f-stat-methods-course/issues/1) on the class Github repo, and reply in the thread following the instructions there.\n",
    "\n",
    "Congratulations!  You've contributed to an Issue on Github, perhaps for the first time!"
   ]
  },
  {
   "cell_type": "markdown",
   "id": "c0e0c8a5-caa8-4981-bb2b-8a8da6060db9",
   "metadata": {
    "editable": true,
    "slideshow": {
     "slide_type": ""
    },
    "tags": []
   },
   "source": [
    "## Extra credit (none this assignment)"
   ]
  },
  {
   "cell_type": "markdown",
   "id": "4c577a95-c484-4926-befd-b6143c9dfcef",
   "metadata": {
    "editable": true,
    "slideshow": {
     "slide_type": ""
    },
    "tags": []
   },
   "source": [
    "Most assignments will provide one or more ways of earning extra credit, up to 5, 10, or 15% of the total assignment grade.  Look for this in future assignments."
   ]
  },
  {
   "cell_type": "code",
   "execution_count": null,
   "id": "f3bf947f-f7eb-4718-9714-3385d0bbfd33",
   "metadata": {},
   "outputs": [],
   "source": []
  }
 ],
 "metadata": {
  "kernelspec": {
   "display_name": "Python 3 (ipykernel)",
   "language": "python",
   "name": "python3"
  },
  "language_info": {
   "codemirror_mode": {
    "name": "ipython",
    "version": 3
   },
   "file_extension": ".py",
   "mimetype": "text/x-python",
   "name": "python",
   "nbconvert_exporter": "python",
   "pygments_lexer": "ipython3",
   "version": "3.13.5"
  }
 },
 "nbformat": 4,
 "nbformat_minor": 5
}

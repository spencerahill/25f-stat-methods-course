{
 "cells": [
  {
   "cell_type": "markdown",
   "id": "65cbbcc8-4763-43a0-b821-473558b302b5",
   "metadata": {},
   "source": [
    "# HW05: linear regressions\n",
    "\n",
    "**DEADLINE: Wednesday, November 5th, 2025**"
   ]
  },
  {
   "cell_type": "markdown",
   "id": "b961c21c-e6f7-4ff5-9d0d-1d0945451f6f",
   "metadata": {},
   "source": [
    "# Compute and analyze linear regressions\n",
    "\n",
    "Compute each of the following regressions (\"Y against X\" means you regress Y onto X):\n",
    "\n",
    "- [ ] annual block maximum precipitation against daily mean temperature averaged over May through September of each year\n",
    "- [ ] snow depth against daily maximum temperature, both restricting to days in December through February\n",
    "- [ ] same, but also restricting to days with nonzero snowfall\n",
    "\n",
    "For each of these, include each of the following:\n",
    "\n",
    "- [ ] the Pearson correlation coefficient\n",
    "- [ ] the regression slope value, including the units\n",
    "- [ ] the regression intercept value, including the units\n",
    "- [ ] a scatterplot of the two variables with the regression line overlaid\n",
    "- [ ] a ~2 sentence analysis of your interpretation of the results of the regression\n",
    "\n",
    "# Implement detrending\n",
    "\n",
    "**First**, write a python function that uses linear regression to compute and return the linear trend in time of a given variable.\n",
    "\n",
    "**Second**, write another function that calls the above function to compute the trend, and then subtracts off that trend from the original array.  The function should return this resulting *detrended* array.\n",
    "\n",
    "**Third**, for the two variables used in the first linear regression above (block-max precip and warm-season mean temp), plot the original timeseries, the detrended timeseries, and the linear trend.  These should all go in one 2-panel figure, one panel per variable.  Include a brief summary for each variable of your interpretion of the resuls of the detrending.\n",
    "\n",
    "**Fourth**, repeat the linear regression tasks but using the detrended timeseries.  Describe how much the results change or not."
   ]
  },
  {
   "cell_type": "markdown",
   "id": "2206bfa6-0ce7-4f43-adfd-46a15ff3612f",
   "metadata": {},
   "source": [
    "# Extra credit opportunities\n",
    "\n",
    "## Apply these tools to your final project\n",
    "Complete the linear regression and detrending tasks above for a pair of variables from the dataset you're using for your final project.\n",
    "\n",
    "Notice: the trend/detrending logic above assumes timeseries.  If your data are not timeseries, you can still do this...just make the trend/detrending code accept the name of whatever dimension that your data varies over."
   ]
  },
  {
   "cell_type": "markdown",
   "id": "7c5803d4-ee30-4991-98af-0cbe3da27ae5",
   "metadata": {},
   "source": [
    "# How to submit\n",
    "\n",
    "Use the Google form [here](https://forms.gle/7uYWFRVU3SBDdzeFA)."
   ]
  }
 ],
 "metadata": {
  "kernelspec": {
   "display_name": "Python 3 (ipykernel)",
   "language": "python",
   "name": "python3"
  },
  "language_info": {
   "codemirror_mode": {
    "name": "ipython",
    "version": 3
   },
   "file_extension": ".py",
   "mimetype": "text/x-python",
   "name": "python",
   "nbconvert_exporter": "python",
   "pygments_lexer": "ipython3",
   "version": "3.13.5"
  }
 },
 "nbformat": 4,
 "nbformat_minor": 5
}
